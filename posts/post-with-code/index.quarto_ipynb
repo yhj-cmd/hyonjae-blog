{
  "cells": [
    {
      "cell_type": "markdown",
      "metadata": {},
      "source": [
        "---\n",
        "title: \"Post With Code\"\n",
        "author: \"Harlow Malloc\"\n",
        "date: \"2025-03-06\"\n",
        "categories: [news, code, analysis]\n",
        "image: \"image.jpg\"\n",
        "---\n",
        "\n",
        "\n",
        "This is a post with executable code.\n",
        "\n",
        "## 10 조 조익현 이유진 정의주\n",
        "## 각 펭귄 종별 특징 알아내서 발표\n"
      ],
      "id": "1e236c3f"
    },
    {
      "cell_type": "code",
      "metadata": {},
      "source": [
        "import numpy as np\n",
        "import pandas as pd\n",
        "\n",
        "# 1. nan 0으로 대치\n",
        "# 2. 종별로 데이터 나누기\n",
        "# 3. 종마다 부리 높이, 부리 깊이, 날개 길이 평균(+최대, 최소) 구해보기\n",
        "\n",
        "# 1\n",
        "penguins.isna()\n",
        "penguins[\"bill_length_mm\"].loc[penguins[\"bill_length_mm\"].isna()].iloc[0] = 0\n",
        "penguins[\"bill_depth_mm\"].loc[penguins[\"bill_depth_mm\"].isna()].iloc[0] = 0\n",
        "penguins[\"flipper_length_mm\"].loc[penguins[\"flipper_length_mm\"].isna()].iloc[0] = 0\n",
        "penguins[\"body_mass_g\"].loc[penguins[\"body_mass_g\"].isna()].iloc[0] = 0\n",
        "penguins[\"sex\"].loc[penguins[\"sex\"].isna()].iloc[0] = \"X\"\n",
        "\n",
        "# 2, 3\n",
        "penguins.describe()\n",
        "ad = penguins.loc[penguins[\"species\"] == \"Adelie\"]\n",
        "gt = penguins.loc[penguins[\"species\"] == \"Gentoo\"]\n",
        "cs = penguins.loc[penguins[\"species\"] == \"Chinstrap\"]\n",
        "ad.describe()\n",
        "gt.describe()\n",
        "cs.describe()\n",
        "\n",
        "# 결과 요약\n",
        "#  부리 길이 max min mean \n",
        "# Adelie** | 46.0 | 32.1 | 38.79 |\n",
        "# Chinstrap** | 58.0 | 40.9 | 48.83 |\n",
        "# **Gentoo** | 59.6 | 40.9 | 47.50 |\n",
        "#  부리 깊이 max min mean \n",
        "# | **Adelie** | 21.5 | 15.0 | 18.35 |\n",
        "# | **Chinstrap** | 21.5 | 17.0 | 18.42 |\n",
        "# | **Gentoo** | 17.3 | 13.1 | 15.03 |\n",
        "#  날개 길이 max min mean \n",
        "# | **Adelie** | 210 | 172 | 189.95 |\n",
        "# | **Chinstrap** | 212 | 178 | 195.82 |\n",
        "# | **Gentoo** | 231 | 203 | 217.19 |\n",
        "#  몸무게 max min mean\n",
        "# | **Adelie** | 4775 | 2850 | 3700.66 |\n",
        "# | **Chinstrap** | 4800 | 2700 | 3733.09 |\n",
        "# | **Gentoo** | 6300 | 3950 | 5076.02 |\n",
        "\n",
        "# - **Adelie**: **부리 길이 짧음, 부리 깊이 보통, 날개 길이 짧음, 몸무게 가벼움**\n",
        "# - **Chinstrap**: **부리 길이 가장 김, 부리 깊이 보통, 날개 길이 중간, 몸무게 중간**\n",
        "# - **Gentoo**: **부리 길이 김, 부리 깊이 가장 얇음, 날개 길이 가장 긺, 몸무게 가장 무거움**\n"
      ],
      "id": "4137dbd4",
      "execution_count": null,
      "outputs": []
    }
  ],
  "metadata": {
    "kernelspec": {
      "name": "python3",
      "language": "python",
      "display_name": "Python 3 (ipykernel)",
      "path": "C:\\Users\\USER\\AppData\\Roaming\\Python\\share\\jupyter\\kernels\\python3"
    }
  },
  "nbformat": 4,
  "nbformat_minor": 5
}