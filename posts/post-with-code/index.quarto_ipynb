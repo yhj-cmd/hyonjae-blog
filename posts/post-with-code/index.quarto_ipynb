{
  "cells": [
    {
      "cell_type": "markdown",
      "metadata": {},
      "source": [
        "---\n",
        "title: \"팔머펭귄 외관 특징 분석\"\n",
        "author: \"이유진, 윤현재, 정의주, 조익현\"\n",
        "date: \"2025-03-07\"\n",
        "categories: [news, code, analysis]\n",
        "image: \"palmerpenguins.png\"\n",
        "---\n",
        "\n",
        "\n",
        "## 각 펭귄 종별 특징 알아내기\n",
        "\n",
        "\n",
        "# 2. 종별로 데이터 나누기\n",
        "# 3. 종마다 부리 높이, 부리 깊이, 날개 길이 평균(+최대, 최소) 구해보기\n",
        "\n",
        "# 1. "
      ],
      "id": "c918767d"
    },
    {
      "cell_type": "code",
      "metadata": {},
      "source": [
        "import numpy as np\n",
        "import pandas as pd\n",
        "\n",
        "from palmerpenguins import load_penguins\n",
        "penguins = load_penguins()\n",
        "penguins.info()\n"
      ],
      "id": "692d6211",
      "execution_count": null,
      "outputs": []
    },
    {
      "cell_type": "markdown",
      "metadata": {},
      "source": [
        "## 1. NaN 값 확인 및 제거\n"
      ],
      "id": "65ccad9e"
    },
    {
      "cell_type": "code",
      "metadata": {},
      "source": [
        "penguins.isna().sum()\n",
        "\n",
        "\n",
        "species_counts = {}\n",
        "\n",
        "for species in penguins[\"species\"].unique():\n",
        "    species_counts[species] = [penguins.loc[\"species\"] == species, \"species\"].shape[0]"
      ],
      "id": "a13bb453",
      "execution_count": null,
      "outputs": []
    },
    {
      "cell_type": "code",
      "metadata": {},
      "source": [
        "import numpy as np\n",
        "import pandas as pd\n",
        "\n",
        "\n",
        "penguins.isna()\n",
        "penguins[\"bill_length_mm\"].loc[penguins[\"bill_length_mm\"].isna()].iloc[0] = 0\n",
        "penguins[\"bill_depth_mm\"].loc[penguins[\"bill_depth_mm\"].isna()].iloc[0] = 0\n",
        "penguins[\"flipper_length_mm\"].loc[penguins[\"flipper_length_mm\"].isna()].iloc[0] = 0\n",
        "penguins[\"body_mass_g\"].loc[penguins[\"body_mass_g\"].isna()].iloc[0] = 0\n",
        "penguins[\"sex\"].loc[penguins[\"sex\"].isna()].iloc[0] = \"X\""
      ],
      "id": "a8b13bd6",
      "execution_count": null,
      "outputs": []
    },
    {
      "cell_type": "code",
      "metadata": {},
      "source": [
        "import numpy as np\n",
        "import pandas as pd\n",
        "\n",
        "penguins.describe()\n",
        "ad = penguins.loc[penguins[\"species\"] == \"Adelie\"]\n",
        "gt = penguins.loc[penguins[\"species\"] == \"Gentoo\"]\n",
        "cs = penguins.loc[penguins[\"species\"] == \"Chinstrap\"]\n",
        "ad.describe()\n",
        "gt.describe()\n",
        "cs.describe()"
      ],
      "id": "f5fd1cce",
      "execution_count": null,
      "outputs": []
    },
    {
      "cell_type": "markdown",
      "metadata": {},
      "source": [
        "# 결과 요약\n",
        "#  부리 길이 max min mean \n",
        "# Adelie** | 46.0 | 32.1 | 38.79 |\n",
        "# Chinstrap** | 58.0 | 40.9 | 48.83 |\n",
        "# **Gentoo** | 59.6 | 40.9 | 47.50 |\n",
        "#  부리 깊이 max min mean \n",
        "# | **Adelie** | 21.5 | 15.0 | 18.35 |\n",
        "# | **Chinstrap** | 21.5 | 17.0 | 18.42 |\n",
        "# | **Gentoo** | 17.3 | 13.1 | 15.03 |\n",
        "#  날개 길이 max min mean \n",
        "# | **Adelie** | 210 | 172 | 189.95 |\n",
        "# | **Chinstrap** | 212 | 178 | 195.82 |\n",
        "# | **Gentoo** | 231 | 203 | 217.19 |\n",
        "#  몸무게 max min mean\n",
        "# | **Adelie** | 4775 | 2850 | 3700.66 |\n",
        "# | **Chinstrap** | 4800 | 2700 | 3733.09 |\n",
        "# | **Gentoo** | 6300 | 3950 | 5076.02 |\n",
        "\n",
        "# - **Adelie**: **부리 길이 짧음, 부리 깊이 보통, 날개 길이 짧음, 몸무게 가벼움**\n",
        "# - **Chinstrap**: **부리 길이 가장 김, 부리 깊이 보통, 날개 길이 중간, 몸무게 중간**\n",
        "# - **Gentoo**: **부리 길이 김, 부리 깊이 가장 얇음, 날개 길이 가장 긺, 몸무게 가장 무거움**"
      ],
      "id": "4bd5ae1f"
    }
  ],
  "metadata": {
    "kernelspec": {
      "name": "python3",
      "language": "python",
      "display_name": "Python 3 (ipykernel)",
      "path": "C:\\Users\\USER\\AppData\\Roaming\\Python\\share\\jupyter\\kernels\\python3"
    }
  },
  "nbformat": 4,
  "nbformat_minor": 5
}